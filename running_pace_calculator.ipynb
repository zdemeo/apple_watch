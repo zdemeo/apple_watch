{
 "cells": [
  {
   "cell_type": "markdown",
   "metadata": {},
   "source": [
    "[![Binder](https://mybinder.org/badge_logo.svg)](https://mybinder.org/v2/gh/zdemeo/apple_watch/HEAD?labpath=running_pace_calculator.ipynb)\n",
    "# Pace Estimator\n",
    "\n",
    "This application uses the linear regression model that was trained in [Predicting Running Pace](https://mybinder.org/v2/gh/zdemeo/apple_watch/HEAD?labpath=predict_pace.ipynb)."
   ]
  },
  {
   "cell_type": "code",
   "execution_count": 1,
   "metadata": {},
   "outputs": [],
   "source": [
    "# Simple calculator for estimating running pace from the linear regression model\n",
    "class Calculator:\n",
    "\n",
    "    # Initialize all widgets used in pace calculator and load linear regression model\n",
    "    def __init__(self, model):\n",
    "        import ipywidgets as widgets\n",
    "        \n",
    "        # Load linear regression model\n",
    "        self.model = model\n",
    "        \n",
    "        style = {'description_width': 'initial'}  # Allows for longer text descriptions\n",
    "        \n",
    "        self.elevation = widgets.BoundedIntText(\n",
    "            value=500,\n",
    "            min=0,\n",
    "            max=2000,\n",
    "            step=1,\n",
    "            description='Elevation Gain (ft):',\n",
    "            disabled=False,\n",
    "            style=style)\n",
    "\n",
    "        self.temp = widgets.BoundedFloatText(\n",
    "            value=50.0,\n",
    "            min=20.0,\n",
    "            max=100.0,\n",
    "            step=0.1,\n",
    "            description='Max. Temperature (deg. F):',\n",
    "            disabled=False,\n",
    "            style=style)\n",
    "\n",
    "        self.grade = widgets.BoundedFloatText(\n",
    "            value=10.0,\n",
    "            min=0.0,\n",
    "            max=60.0,\n",
    "            step=0.1,\n",
    "            description='Max. Grade (%):',\n",
    "            disabled=False,\n",
    "            style=style)\n",
    "\n",
    "        self.hr = widgets.BoundedIntText(\n",
    "            value=160,\n",
    "            min=110,\n",
    "            max=200,\n",
    "            step=1,\n",
    "            description='Average Heart Rate (BPM):',\n",
    "            disabled=False,\n",
    "            style=style)\n",
    "        \n",
    "        self.sleep = widgets.BoundedFloatText(\n",
    "            value=8.0,\n",
    "            min=0.0,\n",
    "            max=12.0,\n",
    "            step=0.1,\n",
    "            description='Time Asleep (hours):',\n",
    "            disabled=False,\n",
    "            style=style)\n",
    "\n",
    "        self.submit = widgets.Button(\n",
    "            description='Submit',\n",
    "            disabled=False,\n",
    "            button_style='',\n",
    "            tooltip='Estimate average pace',\n",
    "            icon='check')\n",
    "        self.submit.on_click(self.button_callback)\n",
    "        \n",
    "        self.pace = widgets.Text(\n",
    "            value='',\n",
    "            placeholder='',\n",
    "            description='Predicted Pace (minutes/mile):',\n",
    "            disabled=True,\n",
    "            style=style)\n",
    "    \n",
    "    \n",
    "    # Display widgets\n",
    "    def show(self):\n",
    "        from IPython.display import display\n",
    "        \n",
    "        display(self.elevation, self.temp, self.grade, self.hr, self.sleep, self.submit, self.pace)\n",
    "    \n",
    "    \n",
    "    # Create dataframe from kwargs. Arbitrary indexing\n",
    "    @staticmethod\n",
    "    def create_dataframe(**kwargs):\n",
    "        import pandas as pd\n",
    "        \n",
    "        return pd.DataFrame(kwargs, index=[\"date\"])\n",
    "    \n",
    "    \n",
    "    # Predict pace based on model         \n",
    "    def button_callback(self, obj):\n",
    "        \n",
    "        df = self.create_dataframe(hr=self.hr.value, \n",
    "                               elev=self.elevation.value, \n",
    "                               temp=self.temp.value, \n",
    "                               grade=self.grade.value,\n",
    "                               sleep=self.sleep.value)\n",
    "        \n",
    "        prediction = self.model.predict(df)[0]\n",
    "        calc_pace = self.minutes_to_pace(prediction)\n",
    "        \n",
    "        self.pace.value = \"%s:%s\" % (str(calc_pace[\"minutes\"]).zfill(2), str(calc_pace[\"seconds\"]).zfill(2))\n",
    "        #print(calc_pace)\n",
    "        \n",
    "\n",
    "    # Convert decimal minutes to pace\n",
    "    @staticmethod\n",
    "    def minutes_to_pace(time):\n",
    "        from math import floor\n",
    "\n",
    "        minutes = floor(time)\n",
    "        seconds = floor((time - minutes) * 60)\n",
    "\n",
    "        return {\"minutes\": minutes, \"seconds\": seconds}"
   ]
  },
  {
   "cell_type": "code",
   "execution_count": 2,
   "metadata": {},
   "outputs": [],
   "source": [
    "import pickle\n",
    "\n",
    "lm = pickle.load(open(\"pace_30Jan2022.pkl\", \"rb\"))"
   ]
  },
  {
   "cell_type": "code",
   "execution_count": 3,
   "metadata": {
    "scrolled": true
   },
   "outputs": [
    {
     "data": {
      "application/vnd.jupyter.widget-view+json": {
       "model_id": "24dbe79f72fb4a89a209a03ff4404e34",
       "version_major": 2,
       "version_minor": 0
      },
      "text/plain": [
       "BoundedIntText(value=500, description='Elevation Gain (ft):', max=2000, style=DescriptionStyle(description_wid…"
      ]
     },
     "metadata": {},
     "output_type": "display_data"
    },
    {
     "data": {
      "application/vnd.jupyter.widget-view+json": {
       "model_id": "706e376644dc401d84ed91084558b6cb",
       "version_major": 2,
       "version_minor": 0
      },
      "text/plain": [
       "BoundedFloatText(value=50.0, description='Max. Temperature (deg. F):', min=20.0, step=0.1, style=DescriptionSt…"
      ]
     },
     "metadata": {},
     "output_type": "display_data"
    },
    {
     "data": {
      "application/vnd.jupyter.widget-view+json": {
       "model_id": "542dc2b357af49bf938146e059a362c6",
       "version_major": 2,
       "version_minor": 0
      },
      "text/plain": [
       "BoundedFloatText(value=10.0, description='Max. Grade (%):', max=60.0, step=0.1, style=DescriptionStyle(descrip…"
      ]
     },
     "metadata": {},
     "output_type": "display_data"
    },
    {
     "data": {
      "application/vnd.jupyter.widget-view+json": {
       "model_id": "3ee2b211323c401999465eae32f3ce69",
       "version_major": 2,
       "version_minor": 0
      },
      "text/plain": [
       "BoundedIntText(value=160, description='Average Heart Rate (BPM):', max=200, min=110, style=DescriptionStyle(de…"
      ]
     },
     "metadata": {},
     "output_type": "display_data"
    },
    {
     "data": {
      "application/vnd.jupyter.widget-view+json": {
       "model_id": "744827372e9545fd8ab7e5152e7c7c03",
       "version_major": 2,
       "version_minor": 0
      },
      "text/plain": [
       "BoundedFloatText(value=8.0, description='Time Asleep (hours):', max=12.0, step=0.1, style=DescriptionStyle(des…"
      ]
     },
     "metadata": {},
     "output_type": "display_data"
    },
    {
     "data": {
      "application/vnd.jupyter.widget-view+json": {
       "model_id": "d488b66c81314b109f90d4a35b7570c5",
       "version_major": 2,
       "version_minor": 0
      },
      "text/plain": [
       "Button(description='Submit', icon='check', style=ButtonStyle(), tooltip='Estimate average pace')"
      ]
     },
     "metadata": {},
     "output_type": "display_data"
    },
    {
     "data": {
      "application/vnd.jupyter.widget-view+json": {
       "model_id": "26d1fbbbfef9414a9107fa83d08192bb",
       "version_major": 2,
       "version_minor": 0
      },
      "text/plain": [
       "Text(value='', description='Predicted Pace (minutes/mile):', disabled=True, placeholder='', style=DescriptionS…"
      ]
     },
     "metadata": {},
     "output_type": "display_data"
    }
   ],
   "source": [
    "pace_calculator = Calculator(lm)\n",
    "pace_calculator.show()"
   ]
  },
  {
   "cell_type": "code",
   "execution_count": null,
   "metadata": {},
   "outputs": [],
   "source": []
  }
 ],
 "metadata": {
  "kernelspec": {
   "display_name": "Python 3",
   "language": "python",
   "name": "python3"
  },
  "language_info": {
   "codemirror_mode": {
    "name": "ipython",
    "version": 3
   },
   "file_extension": ".py",
   "mimetype": "text/x-python",
   "name": "python",
   "nbconvert_exporter": "python",
   "pygments_lexer": "ipython3",
   "version": "3.7.4"
  }
 },
 "nbformat": 4,
 "nbformat_minor": 2
}
