{
 "cells": [
  {
   "cell_type": "code",
   "execution_count": 51,
   "metadata": {},
   "outputs": [
    {
     "data": {
      "text/html": [
       "        <script type=\"text/javascript\">\n",
       "        window.PlotlyConfig = {MathJaxConfig: 'local'};\n",
       "        if (window.MathJax) {MathJax.Hub.Config({SVG: {font: \"STIX-Web\"}});}\n",
       "        if (typeof require !== 'undefined') {\n",
       "        require.undef(\"plotly\");\n",
       "        requirejs.config({\n",
       "            paths: {\n",
       "                'plotly': ['https://cdn.plot.ly/plotly-latest.min']\n",
       "            }\n",
       "        });\n",
       "        require(['plotly'], function(Plotly) {\n",
       "            window._Plotly = Plotly;\n",
       "        });\n",
       "        }\n",
       "        </script>\n",
       "        "
      ]
     },
     "metadata": {},
     "output_type": "display_data"
    },
    {
     "data": {
      "text/html": [
       "        <script type=\"text/javascript\">\n",
       "        window.PlotlyConfig = {MathJaxConfig: 'local'};\n",
       "        if (window.MathJax) {MathJax.Hub.Config({SVG: {font: \"STIX-Web\"}});}\n",
       "        if (typeof require !== 'undefined') {\n",
       "        require.undef(\"plotly\");\n",
       "        requirejs.config({\n",
       "            paths: {\n",
       "                'plotly': ['https://cdn.plot.ly/plotly-latest.min']\n",
       "            }\n",
       "        });\n",
       "        require(['plotly'], function(Plotly) {\n",
       "            window._Plotly = Plotly;\n",
       "        });\n",
       "        }\n",
       "        </script>\n",
       "        "
      ]
     },
     "metadata": {},
     "output_type": "display_data"
    }
   ],
   "source": [
    "import pandas as pd\n",
    "import seaborn as sns\n",
    "from dateutil import parser\n",
    "from plotly import __version__\n",
    "from plotly.offline import download_plotlyjs, init_notebook_mode, plot, iplot\n",
    "import cufflinks as cf\n",
    "init_notebook_mode(connected=True)\n",
    "cf.go_offline()\n",
    "import matplotlib.pyplot as plt\n",
    "%matplotlib inline"
   ]
  },
  {
   "cell_type": "markdown",
   "metadata": {},
   "source": [
    "# Running Pace Exploration\n",
    "\n",
    "In this project, I'm going to investigate how different factors affect my running pace. Intuitively, runners know that things like elevation gain and temperature affect performance, but <i>how much</i>, exactly, does this affect pace?\n",
    "\n",
    "Runs were logged with Strava, and heart rate data was collected using a Polar H10 chest strap over most of 2021.\n"
   ]
  },
  {
   "cell_type": "markdown",
   "metadata": {},
   "source": [
    "# Strava Data\n",
    "\n",
    "You can request all of your Strava user data from the Delete Account page (https://www.strava.com/athlete/delete_your_account). Summary statistics are located in activities.csv.\n",
    "\n",
    "<b>Note:</b> Strava data is in SI units.\n"
   ]
  },
  {
   "cell_type": "code",
   "execution_count": 203,
   "metadata": {},
   "outputs": [
    {
     "name": "stdout",
     "output_type": "stream",
     "text": [
      "Index(['Activity ID', 'Activity Name', 'Activity Type', 'Activity Description',\n",
      "       'Elapsed Time', 'Distance', 'Max Heart Rate', 'Relative Effort',\n",
      "       'Commute', 'Activity Gear', 'Filename', 'Athlete Weight', 'Bike Weight',\n",
      "       'Elapsed Time.1', 'Moving Time', 'Distance.1', 'Max Speed',\n",
      "       'Average Speed', 'Elevation Gain', 'Elevation Loss', 'Elevation Low',\n",
      "       'Elevation High', 'Max Grade', 'Average Grade',\n",
      "       'Average Positive Grade', 'Average Negative Grade', 'Max Cadence',\n",
      "       'Average Cadence', 'Max Heart Rate.1', 'Average Heart Rate',\n",
      "       'Max Watts', 'Average Watts', 'Calories', 'Max Temperature',\n",
      "       'Average Temperature', 'Relative Effort.1', 'Total Work',\n",
      "       'Number of Runs', 'Uphill Time', 'Downhill Time', 'Other Time',\n",
      "       'Perceived Exertion',\n",
      "       '<span class=\"translation_missing\" title=\"translation missing: en-US.lib.export.portability_exporter.activities.horton_values.type\">Type</span>',\n",
      "       '<span class=\"translation_missing\" title=\"translation missing: en-US.lib.export.portability_exporter.activities.horton_values.start_time\">Start Time</span>',\n",
      "       'Weighted Average Power', 'Power Count', 'Prefer Perceived Exertion',\n",
      "       'Perceived Relative Effort', 'Commute.1', 'Total Weight Lifted',\n",
      "       'From Upload', 'Grade Adjusted Distance', 'Weather Observation Time',\n",
      "       'Weather Condition', 'Weather Temperature', 'Apparent Temperature',\n",
      "       'Dewpoint', 'Humidity', 'Weather Pressure', 'Wind Speed', 'Wind Gust',\n",
      "       'Wind Bearing', 'Precipitation Intensity', 'Sunrise Time',\n",
      "       'Sunset Time', 'Moon Phase', 'Bike', 'Gear',\n",
      "       'Precipitation Probability', 'Precipitation Type', 'Cloud Cover',\n",
      "       'Weather Visibility', 'UV Index', 'Weather Ozone',\n",
      "       '<span class=\"translation_missing\" title=\"translation missing: en-US.lib.export.portability_exporter.activities.horton_values.jump_count\">Jump Count</span>',\n",
      "       '<span class=\"translation_missing\" title=\"translation missing: en-US.lib.export.portability_exporter.activities.horton_values.total_grit\">Total Grit</span>',\n",
      "       '<span class=\"translation_missing\" title=\"translation missing: en-US.lib.export.portability_exporter.activities.horton_values.avg_flow\">Avg Flow</span>',\n",
      "       '<span class=\"translation_missing\" title=\"translation missing: en-US.lib.export.portability_exporter.activities.horton_values.flagged\">Flagged</span>',\n",
      "       '<span class=\"translation_missing\" title=\"translation missing: en-US.lib.export.portability_exporter.activities.horton_values.avg_elapsed_speed\">Avg Elapsed Speed</span>',\n",
      "       '<span class=\"translation_missing\" title=\"translation missing: en-US.lib.export.portability_exporter.activities.horton_values.dirt_distance\">Dirt Distance</span>'],\n",
      "      dtype='object')\n"
     ]
    }
   ],
   "source": [
    "# Read in Strava statistics and find columns of interest\n",
    "strava_df = pd.read_csv('activities.csv', parse_dates=True, index_col='Activity Date')\n",
    "print(strava_df.columns)"
   ]
  },
  {
   "cell_type": "markdown",
   "metadata": {},
   "source": [
    "From these categories, I'll need:\n",
    "\n",
    "1. Average Speed\n",
    "1. Average Heart Rate\n",
    "1. Elevation Gain\n",
    "\n",
    "For all runs in 2021."
   ]
  },
  {
   "cell_type": "code",
   "execution_count": 204,
   "metadata": {},
   "outputs": [],
   "source": [
    "# Filter for only 2021 activities and runs only. Remove any rows with NaNs.\n",
    "run_df = strava_df.loc['2021-01-01':]\n",
    "run_df = run_df[run_df['Activity Type'] == 'Run'][['Average Speed', 'Average Heart Rate', 'Elevation Gain']]\n",
    "run_df = run_df.dropna()\n",
    "\n",
    "# Let's also add units to the columns for completeness\n",
    "run_df.columns = ['Average Speed (m/s)', 'Average Heart Rate (BPM)', 'Elevation Gain (m)']"
   ]
  },
  {
   "cell_type": "code",
   "execution_count": 205,
   "metadata": {},
   "outputs": [
    {
     "data": {
      "text/html": [
       "<div>\n",
       "<style scoped>\n",
       "    .dataframe tbody tr th:only-of-type {\n",
       "        vertical-align: middle;\n",
       "    }\n",
       "\n",
       "    .dataframe tbody tr th {\n",
       "        vertical-align: top;\n",
       "    }\n",
       "\n",
       "    .dataframe thead th {\n",
       "        text-align: right;\n",
       "    }\n",
       "</style>\n",
       "<table border=\"1\" class=\"dataframe\">\n",
       "  <thead>\n",
       "    <tr style=\"text-align: right;\">\n",
       "      <th></th>\n",
       "      <th>Average Speed (m/s)</th>\n",
       "      <th>Average Heart Rate (BPM)</th>\n",
       "      <th>Elevation Gain (m)</th>\n",
       "    </tr>\n",
       "    <tr>\n",
       "      <th>Activity Date</th>\n",
       "      <th></th>\n",
       "      <th></th>\n",
       "      <th></th>\n",
       "    </tr>\n",
       "  </thead>\n",
       "  <tbody>\n",
       "    <tr>\n",
       "      <th>2021-01-29 00:52:58</th>\n",
       "      <td>3.502933</td>\n",
       "      <td>183.166321</td>\n",
       "      <td>15.317184</td>\n",
       "    </tr>\n",
       "    <tr>\n",
       "      <th>2021-01-26 00:05:07</th>\n",
       "      <td>2.457140</td>\n",
       "      <td>166.639969</td>\n",
       "      <td>301.950714</td>\n",
       "    </tr>\n",
       "    <tr>\n",
       "      <th>2021-01-22 23:50:27</th>\n",
       "      <td>2.295785</td>\n",
       "      <td>174.350204</td>\n",
       "      <td>298.129578</td>\n",
       "    </tr>\n",
       "    <tr>\n",
       "      <th>2021-01-19 00:05:15</th>\n",
       "      <td>2.104529</td>\n",
       "      <td>170.672272</td>\n",
       "      <td>501.487457</td>\n",
       "    </tr>\n",
       "    <tr>\n",
       "      <th>2021-01-13 20:36:58</th>\n",
       "      <td>2.447490</td>\n",
       "      <td>172.626175</td>\n",
       "      <td>165.052643</td>\n",
       "    </tr>\n",
       "  </tbody>\n",
       "</table>\n",
       "</div>"
      ],
      "text/plain": [
       "                     Average Speed (m/s)  Average Heart Rate (BPM)  \\\n",
       "Activity Date                                                        \n",
       "2021-01-29 00:52:58             3.502933                183.166321   \n",
       "2021-01-26 00:05:07             2.457140                166.639969   \n",
       "2021-01-22 23:50:27             2.295785                174.350204   \n",
       "2021-01-19 00:05:15             2.104529                170.672272   \n",
       "2021-01-13 20:36:58             2.447490                172.626175   \n",
       "\n",
       "                     Elevation Gain (m)  \n",
       "Activity Date                            \n",
       "2021-01-29 00:52:58           15.317184  \n",
       "2021-01-26 00:05:07          301.950714  \n",
       "2021-01-22 23:50:27          298.129578  \n",
       "2021-01-19 00:05:15          501.487457  \n",
       "2021-01-13 20:36:58          165.052643  "
      ]
     },
     "execution_count": 205,
     "metadata": {},
     "output_type": "execute_result"
    }
   ],
   "source": [
    "run_df.head()"
   ]
  },
  {
   "cell_type": "code",
   "execution_count": 206,
   "metadata": {},
   "outputs": [],
   "source": [
    "# Convert average speed from km/h to mi/h\n",
    "run_df['Average Speed (mi/h)'] = run_df['Average Speed (m/s)'] * 2.23694\n",
    "\n",
    "# Convert elevation gain from m to ft\n",
    "run_df['Elevation Gain (ft)'] = run_df['Elevation Gain (m)'] * 3.28084 # m to ft\n",
    "\n",
    "# Pace is a more common way of looking at running speed\n",
    "run_df['Pace (minutes/mi)'] = 60 / run_df['Average Speed (mi/h)']\n",
    "\n",
    "# Get rid of unnecessary columns\n",
    "run_df.drop(['Average Speed (m/s)', 'Elevation Gain (m)', 'Average Speed (mi/h)'], axis=1, inplace=True) \n",
    "\n",
    "# In order to join the Strava DataFrame and the weather DataFrame, they need to have the same indicies.\n",
    "# Both are currently DataTime objects, but the Strava data is more precise--all I care about is the year,\n",
    "# month, and day an acvitivty occurred.\n",
    "# I'm pretty sure I never ran more than once per day. In case I did, average the two runs.\n",
    "run_df = run_df.resample('D').mean()\n",
    "run_df = run_df.dropna()"
   ]
  },
  {
   "cell_type": "code",
   "execution_count": 207,
   "metadata": {},
   "outputs": [
    {
     "data": {
      "text/html": [
       "<div>\n",
       "<style scoped>\n",
       "    .dataframe tbody tr th:only-of-type {\n",
       "        vertical-align: middle;\n",
       "    }\n",
       "\n",
       "    .dataframe tbody tr th {\n",
       "        vertical-align: top;\n",
       "    }\n",
       "\n",
       "    .dataframe thead th {\n",
       "        text-align: right;\n",
       "    }\n",
       "</style>\n",
       "<table border=\"1\" class=\"dataframe\">\n",
       "  <thead>\n",
       "    <tr style=\"text-align: right;\">\n",
       "      <th></th>\n",
       "      <th>Average Heart Rate (BPM)</th>\n",
       "      <th>Elevation Gain (ft)</th>\n",
       "      <th>Pace (minutes/mi)</th>\n",
       "    </tr>\n",
       "    <tr>\n",
       "      <th>Activity Date</th>\n",
       "      <th></th>\n",
       "      <th></th>\n",
       "      <th></th>\n",
       "    </tr>\n",
       "  </thead>\n",
       "  <tbody>\n",
       "    <tr>\n",
       "      <th>2021-01-11</th>\n",
       "      <td>158.231827</td>\n",
       "      <td>570.478182</td>\n",
       "      <td>12.675762</td>\n",
       "    </tr>\n",
       "    <tr>\n",
       "      <th>2021-01-13</th>\n",
       "      <td>172.626175</td>\n",
       "      <td>541.511313</td>\n",
       "      <td>10.959126</td>\n",
       "    </tr>\n",
       "    <tr>\n",
       "      <th>2021-01-19</th>\n",
       "      <td>170.672272</td>\n",
       "      <td>1645.300109</td>\n",
       "      <td>12.745065</td>\n",
       "    </tr>\n",
       "    <tr>\n",
       "      <th>2021-01-22</th>\n",
       "      <td>174.350204</td>\n",
       "      <td>978.115443</td>\n",
       "      <td>11.683304</td>\n",
       "    </tr>\n",
       "    <tr>\n",
       "      <th>2021-01-26</th>\n",
       "      <td>166.639969</td>\n",
       "      <td>990.651981</td>\n",
       "      <td>10.916089</td>\n",
       "    </tr>\n",
       "  </tbody>\n",
       "</table>\n",
       "</div>"
      ],
      "text/plain": [
       "               Average Heart Rate (BPM)  Elevation Gain (ft)  \\\n",
       "Activity Date                                                  \n",
       "2021-01-11                   158.231827           570.478182   \n",
       "2021-01-13                   172.626175           541.511313   \n",
       "2021-01-19                   170.672272          1645.300109   \n",
       "2021-01-22                   174.350204           978.115443   \n",
       "2021-01-26                   166.639969           990.651981   \n",
       "\n",
       "               Pace (minutes/mi)  \n",
       "Activity Date                     \n",
       "2021-01-11             12.675762  \n",
       "2021-01-13             10.959126  \n",
       "2021-01-19             12.745065  \n",
       "2021-01-22             11.683304  \n",
       "2021-01-26             10.916089  "
      ]
     },
     "execution_count": 207,
     "metadata": {},
     "output_type": "execute_result"
    }
   ],
   "source": [
    "run_df.head()"
   ]
  },
  {
   "cell_type": "markdown",
   "metadata": {},
   "source": [
    "# Weather Data\n",
    "\n",
    "Weather data was obtained from http://www.ncdc.noaa.gov/cdo-web/search. For this exercise, I'm going to use the maximum temperature recorded in my city. I mostly run during daylight hours and within several hours of the hottest part of the day. That said, this is a major assumption, and I'd expect any effect of temperature to be an overprediction.  "
   ]
  },
  {
   "cell_type": "code",
   "execution_count": 208,
   "metadata": {},
   "outputs": [
    {
     "data": {
      "text/plain": [
       "Index(['STATION', 'NAME', 'TMAX', 'TMIN'], dtype='object')"
      ]
     },
     "execution_count": 208,
     "metadata": {},
     "output_type": "execute_result"
    }
   ],
   "source": [
    "# Read in NOAA data\n",
    "weather_df = pd.read_csv('2818194.csv', parse_dates=True, index_col='DATE')\n",
    "weather_df.columns"
   ]
  },
  {
   "cell_type": "code",
   "execution_count": 209,
   "metadata": {},
   "outputs": [],
   "source": [
    "# Drop everything except TMAX and rename\n",
    "weather_df.drop(['STATION', 'NAME', 'TMIN'], axis=1, inplace=True)\n",
    "weather_df.columns = ['Maximum temperature (\\u00B0F)']"
   ]
  },
  {
   "cell_type": "code",
   "execution_count": 210,
   "metadata": {},
   "outputs": [
    {
     "data": {
      "text/html": [
       "<div>\n",
       "<style scoped>\n",
       "    .dataframe tbody tr th:only-of-type {\n",
       "        vertical-align: middle;\n",
       "    }\n",
       "\n",
       "    .dataframe tbody tr th {\n",
       "        vertical-align: top;\n",
       "    }\n",
       "\n",
       "    .dataframe thead th {\n",
       "        text-align: right;\n",
       "    }\n",
       "</style>\n",
       "<table border=\"1\" class=\"dataframe\">\n",
       "  <thead>\n",
       "    <tr style=\"text-align: right;\">\n",
       "      <th></th>\n",
       "      <th>Maximum temperature (°F)</th>\n",
       "    </tr>\n",
       "    <tr>\n",
       "      <th>DATE</th>\n",
       "      <th></th>\n",
       "    </tr>\n",
       "  </thead>\n",
       "  <tbody>\n",
       "    <tr>\n",
       "      <th>2020-10-13</th>\n",
       "      <td>65.0</td>\n",
       "    </tr>\n",
       "    <tr>\n",
       "      <th>2020-10-14</th>\n",
       "      <td>62.0</td>\n",
       "    </tr>\n",
       "    <tr>\n",
       "      <th>2020-10-15</th>\n",
       "      <td>63.0</td>\n",
       "    </tr>\n",
       "    <tr>\n",
       "      <th>2020-10-16</th>\n",
       "      <td>70.0</td>\n",
       "    </tr>\n",
       "    <tr>\n",
       "      <th>2020-10-17</th>\n",
       "      <td>69.0</td>\n",
       "    </tr>\n",
       "  </tbody>\n",
       "</table>\n",
       "</div>"
      ],
      "text/plain": [
       "            Maximum temperature (°F)\n",
       "DATE                                \n",
       "2020-10-13                      65.0\n",
       "2020-10-14                      62.0\n",
       "2020-10-15                      63.0\n",
       "2020-10-16                      70.0\n",
       "2020-10-17                      69.0"
      ]
     },
     "execution_count": 210,
     "metadata": {},
     "output_type": "execute_result"
    }
   ],
   "source": [
    "weather_df.head()"
   ]
  },
  {
   "cell_type": "code",
   "execution_count": 211,
   "metadata": {},
   "outputs": [
    {
     "data": {
      "text/html": [
       "<div>\n",
       "<style scoped>\n",
       "    .dataframe tbody tr th:only-of-type {\n",
       "        vertical-align: middle;\n",
       "    }\n",
       "\n",
       "    .dataframe tbody tr th {\n",
       "        vertical-align: top;\n",
       "    }\n",
       "\n",
       "    .dataframe thead th {\n",
       "        text-align: right;\n",
       "    }\n",
       "</style>\n",
       "<table border=\"1\" class=\"dataframe\">\n",
       "  <thead>\n",
       "    <tr style=\"text-align: right;\">\n",
       "      <th></th>\n",
       "      <th>Average Heart Rate (BPM)</th>\n",
       "      <th>Elevation Gain (ft)</th>\n",
       "      <th>Pace (minutes/mi)</th>\n",
       "      <th>Maximum temperature (°F)</th>\n",
       "    </tr>\n",
       "  </thead>\n",
       "  <tbody>\n",
       "    <tr>\n",
       "      <th>2021-01-11</th>\n",
       "      <td>158.231827</td>\n",
       "      <td>570.478182</td>\n",
       "      <td>12.675762</td>\n",
       "      <td>51.0</td>\n",
       "    </tr>\n",
       "    <tr>\n",
       "      <th>2021-01-13</th>\n",
       "      <td>172.626175</td>\n",
       "      <td>541.511313</td>\n",
       "      <td>10.959126</td>\n",
       "      <td>59.0</td>\n",
       "    </tr>\n",
       "    <tr>\n",
       "      <th>2021-01-19</th>\n",
       "      <td>170.672272</td>\n",
       "      <td>1645.300109</td>\n",
       "      <td>12.745065</td>\n",
       "      <td>52.0</td>\n",
       "    </tr>\n",
       "    <tr>\n",
       "      <th>2021-01-22</th>\n",
       "      <td>174.350204</td>\n",
       "      <td>978.115443</td>\n",
       "      <td>11.683304</td>\n",
       "      <td>48.0</td>\n",
       "    </tr>\n",
       "    <tr>\n",
       "      <th>2021-01-26</th>\n",
       "      <td>166.639969</td>\n",
       "      <td>990.651981</td>\n",
       "      <td>10.916089</td>\n",
       "      <td>38.0</td>\n",
       "    </tr>\n",
       "  </tbody>\n",
       "</table>\n",
       "</div>"
      ],
      "text/plain": [
       "            Average Heart Rate (BPM)  Elevation Gain (ft)  Pace (minutes/mi)  \\\n",
       "2021-01-11                158.231827           570.478182          12.675762   \n",
       "2021-01-13                172.626175           541.511313          10.959126   \n",
       "2021-01-19                170.672272          1645.300109          12.745065   \n",
       "2021-01-22                174.350204           978.115443          11.683304   \n",
       "2021-01-26                166.639969           990.651981          10.916089   \n",
       "\n",
       "            Maximum temperature (°F)  \n",
       "2021-01-11                      51.0  \n",
       "2021-01-13                      59.0  \n",
       "2021-01-19                      52.0  \n",
       "2021-01-22                      48.0  \n",
       "2021-01-26                      38.0  "
      ]
     },
     "execution_count": 211,
     "metadata": {},
     "output_type": "execute_result"
    }
   ],
   "source": [
    "# Now, let's do an inner join on the two DataFrames\n",
    "all_df = run_df.join(weather_df, how='inner') \n",
    "all_df.head()"
   ]
  },
  {
   "cell_type": "code",
   "execution_count": 212,
   "metadata": {},
   "outputs": [
    {
     "data": {
      "text/plain": [
       "False"
      ]
     },
     "execution_count": 212,
     "metadata": {},
     "output_type": "execute_result"
    }
   ],
   "source": [
    "# Check for any missing data\n",
    "all_df.isnull().values.any()"
   ]
  },
  {
   "cell_type": "code",
   "execution_count": 224,
   "metadata": {},
   "outputs": [
    {
     "data": {
      "text/plain": [
       "<seaborn.axisgrid.PairGrid at 0x191b06bc288>"
      ]
     },
     "execution_count": 224,
     "metadata": {},
     "output_type": "execute_result"
    },
    {
     "data": {
      "image/png": "[encoded data removed]",
      "text/plain": [
       "<Figure size 720x720 with 20 Axes>"
      ]
     },
     "metadata": {
      "needs_background": "light"
     },
     "output_type": "display_data"
    }
   ],
   "source": [
    "sns.pairplot(all_df)"
   ]
  },
  {
   "cell_type": "markdown",
   "metadata": {},
   "source": [
    "# Correlation Heatmap\n",
    "\n",
    "To get a quick idea of how much change in each variable is explained by another, I'll use a heatmap."
   ]
  },
  {
   "cell_type": "code",
   "execution_count": 213,
   "metadata": {},
   "outputs": [
    {
     "data": {
      "text/plain": [
       "<matplotlib.axes._subplots.AxesSubplot at 0x191b001e948>"
      ]
     },
     "execution_count": 213,
     "metadata": {},
     "output_type": "execute_result"
    },
    {
     "data": {
      "image/png": "[encoded data removed]",
      "text/plain": [
       "<Figure size 432x288 with 2 Axes>"
      ]
     },
     "metadata": {
      "needs_background": "light"
     },
     "output_type": "display_data"
    }
   ],
   "source": [
    "sns.heatmap(all_df.corr())"
   ]
  },
  {
   "cell_type": "markdown",
   "metadata": {},
   "source": [
    "From the heatmap, it looks like pace and elevation gain have a strong positive correlation. Conversely, pace and average heart rate are slightly negatively correlated. Again, these all make intuitive sense to a runner. Let's quantify how much each feature actually affects another using a linear regression model."
   ]
  },
  {
   "cell_type": "code",
   "execution_count": 214,
   "metadata": {},
   "outputs": [],
   "source": [
    "# Try and predict pace \n",
    "X = all_df[['Average Heart Rate (BPM)', 'Elevation Gain (ft)', 'Maximum temperature (\\u00B0F)']]\n",
    "y = all_df['Pace (minutes/mi)']"
   ]
  },
  {
   "cell_type": "code",
   "execution_count": 215,
   "metadata": {},
   "outputs": [],
   "source": [
    "from sklearn.model_selection import train_test_split\n",
    "X_train, X_test, y_train, y_test = train_test_split(X, y, random_state=3)"
   ]
  },
  {
   "cell_type": "code",
   "execution_count": 216,
   "metadata": {},
   "outputs": [
    {
     "data": {
      "text/plain": [
       "LinearRegression(copy_X=True, fit_intercept=True, n_jobs=None, normalize=False)"
      ]
     },
     "execution_count": 216,
     "metadata": {},
     "output_type": "execute_result"
    }
   ],
   "source": [
    "from sklearn.linear_model import LinearRegression\n",
    "lm = LinearRegression()\n",
    "lm.fit(X_train,y_train)"
   ]
  },
  {
   "cell_type": "code",
   "execution_count": 217,
   "metadata": {},
   "outputs": [
    {
     "data": {
      "text/html": [
       "<div>\n",
       "<style scoped>\n",
       "    .dataframe tbody tr th:only-of-type {\n",
       "        vertical-align: middle;\n",
       "    }\n",
       "\n",
       "    .dataframe tbody tr th {\n",
       "        vertical-align: top;\n",
       "    }\n",
       "\n",
       "    .dataframe thead th {\n",
       "        text-align: right;\n",
       "    }\n",
       "</style>\n",
       "<table border=\"1\" class=\"dataframe\">\n",
       "  <thead>\n",
       "    <tr style=\"text-align: right;\">\n",
       "      <th></th>\n",
       "      <th>Coefficient</th>\n",
       "    </tr>\n",
       "  </thead>\n",
       "  <tbody>\n",
       "    <tr>\n",
       "      <th>Average Heart Rate (BPM)</th>\n",
       "      <td>-0.069272</td>\n",
       "    </tr>\n",
       "    <tr>\n",
       "      <th>Elevation Gain (ft)</th>\n",
       "      <td>0.001481</td>\n",
       "    </tr>\n",
       "    <tr>\n",
       "      <th>Maximum temperature (°F)</th>\n",
       "      <td>0.016254</td>\n",
       "    </tr>\n",
       "  </tbody>\n",
       "</table>\n",
       "</div>"
      ],
      "text/plain": [
       "                          Coefficient\n",
       "Average Heart Rate (BPM)    -0.069272\n",
       "Elevation Gain (ft)          0.001481\n",
       "Maximum temperature (°F)     0.016254"
      ]
     },
     "execution_count": 217,
     "metadata": {},
     "output_type": "execute_result"
    }
   ],
   "source": [
    "# Look at model's coefficients\n",
    "coeff_df = pd.DataFrame(lm.coef_,X.columns,columns=['Coefficient'])\n",
    "coeff_df"
   ]
  },
  {
   "cell_type": "markdown",
   "metadata": {},
   "source": [
    "The units for the coefficients are in minutes/mile. Let's convert them to seconds/mile:"
   ]
  },
  {
   "cell_type": "code",
   "execution_count": 218,
   "metadata": {},
   "outputs": [
    {
     "data": {
      "text/html": [
       "<div>\n",
       "<style scoped>\n",
       "    .dataframe tbody tr th:only-of-type {\n",
       "        vertical-align: middle;\n",
       "    }\n",
       "\n",
       "    .dataframe tbody tr th {\n",
       "        vertical-align: top;\n",
       "    }\n",
       "\n",
       "    .dataframe thead th {\n",
       "        text-align: right;\n",
       "    }\n",
       "</style>\n",
       "<table border=\"1\" class=\"dataframe\">\n",
       "  <thead>\n",
       "    <tr style=\"text-align: right;\">\n",
       "      <th></th>\n",
       "      <th>Coefficient</th>\n",
       "    </tr>\n",
       "  </thead>\n",
       "  <tbody>\n",
       "    <tr>\n",
       "      <th>Average Heart Rate (BPM)</th>\n",
       "      <td>-4.156321</td>\n",
       "    </tr>\n",
       "    <tr>\n",
       "      <th>Elevation Gain (ft)</th>\n",
       "      <td>0.088879</td>\n",
       "    </tr>\n",
       "    <tr>\n",
       "      <th>Maximum temperature (°F)</th>\n",
       "      <td>0.975223</td>\n",
       "    </tr>\n",
       "  </tbody>\n",
       "</table>\n",
       "</div>"
      ],
      "text/plain": [
       "                          Coefficient\n",
       "Average Heart Rate (BPM)    -4.156321\n",
       "Elevation Gain (ft)          0.088879\n",
       "Maximum temperature (°F)     0.975223"
      ]
     },
     "execution_count": 218,
     "metadata": {},
     "output_type": "execute_result"
    }
   ],
   "source": [
    "coeff_df * 60"
   ]
  },
  {
   "cell_type": "markdown",
   "metadata": {},
   "source": [
    "According to this model:\n",
    "- An <b>increase of average heart rate of 1 BPM decreases average pace by 4.16 s</b>, holding all other features constant.\n",
    "- For each <b>1 ft of elevation gain during the run, average pace increases by 0.09 s</b>, holding all other features constant.\n",
    "- An <b>increase of 1°F of daily maximum temperature increases average pace by 0.98 s</b>, holding all other features constant.\n"
   ]
  },
  {
   "cell_type": "markdown",
   "metadata": {},
   "source": [
    "# Predictions"
   ]
  },
  {
   "cell_type": "code",
   "execution_count": 223,
   "metadata": {},
   "outputs": [
    {
     "data": {
      "text/plain": [
       "<matplotlib.collections.PathCollection at 0x191b0582908>"
      ]
     },
     "execution_count": 223,
     "metadata": {},
     "output_type": "execute_result"
    },
    {
     "data": {
      "image/png": "[encoded data removed]",
      "text/plain": [
       "<Figure size 432x288 with 1 Axes>"
      ]
     },
     "metadata": {
      "needs_background": "light"
     },
     "output_type": "display_data"
    }
   ],
   "source": [
    "predictions = lm.predict(X_test)\n",
    "plt.xlabel('Test')\n",
    "plt.ylabel('Prediction')\n",
    "plt.scatter(y_test, predictions)"
   ]
  },
  {
   "cell_type": "markdown",
   "metadata": {},
   "source": [
    "Ideally, these datapoints would form a straight line. However, the relationship between test and prediction is approximately linear."
   ]
  },
  {
   "cell_type": "markdown",
   "metadata": {},
   "source": [
    "# Residuals"
   ]
  },
  {
   "cell_type": "code",
   "execution_count": 222,
   "metadata": {},
   "outputs": [
    {
     "data": {
      "image/png": "[encoded data removed]",
      "text/plain": [
       "<Figure size 432x288 with 1 Axes>"
      ]
     },
     "metadata": {
      "needs_background": "light"
     },
     "output_type": "display_data"
    }
   ],
   "source": [
    "sns.distplot((y_test-predictions),bins=25);"
   ]
  },
  {
   "cell_type": "markdown",
   "metadata": {},
   "source": [
    "With more training data, it looks like the residuals would approach a Gaussian distribution."
   ]
  },
  {
   "cell_type": "markdown",
   "metadata": {},
   "source": [
    "# Conclusions\n",
    "\n",
    "* Add grade"
   ]
  },
  {
   "cell_type": "code",
   "execution_count": null,
   "metadata": {},
   "outputs": [],
   "source": []
  }
 ],
 "metadata": {
  "kernelspec": {
   "display_name": "Python 3",
   "language": "python",
   "name": "python3"
  },
  "language_info": {
   "codemirror_mode": {
    "name": "ipython",
    "version": 3
   },
   "file_extension": ".py",
   "mimetype": "text/x-python",
   "name": "python",
   "nbconvert_exporter": "python",
   "pygments_lexer": "ipython3",
   "version": "3.7.6"
  }
 },
 "nbformat": 4,
 "nbformat_minor": 4
}
