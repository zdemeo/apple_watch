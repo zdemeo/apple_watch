{
 "cells": [
  {
   "cell_type": "markdown",
   "metadata": {},
   "source": [
    "[![Binder](https://mybinder.org/badge_logo.svg)](https://mybinder.org/v2/gh/zdemeo/apple_watch/HEAD?labpath=running_pace_calculator.ipynb)\n",
    "# Pace Estimator\n",
    "\n",
    "This application uses the linear regression model that was trained in [Predicting Running Pace](https://mybinder.org/v2/gh/zdemeo/apple_watch/HEAD?labpath=predict_pace.ipynb)."
   ]
  },
  {
   "cell_type": "code",
   "execution_count": 1,
   "metadata": {},
   "outputs": [],
   "source": [
    "# Simple calculator for estimating running pace from the linear regression model\n",
    "class Calculator:\n",
    "\n",
    "    # Initialize all widgets used in pace calculator and load linear regression model\n",
    "    def __init__(self, model):\n",
    "        import ipywidgets as widgets\n",
    "        \n",
    "        # Load linear regression model\n",
    "        self.model = model\n",
    "        \n",
    "        style = {'description_width': 'initial'}  # Allows for longer text descriptions\n",
    "        \n",
    "        self.elevation = widgets.BoundedIntText(\n",
    "            value=500,\n",
    "            min=0,\n",
    "            max=2000,\n",
    "            step=1,\n",
    "            description='Elevation Gain (ft):',\n",
    "            disabled=False,\n",
    "            style=style)\n",
    "\n",
    "        self.temp = widgets.BoundedFloatText(\n",
    "            value=50.0,\n",
    "            min=20.0,\n",
    "            max=100.0,\n",
    "            step=0.1,\n",
    "            description='Max. Temperature (deg. F):',\n",
    "            disabled=False,\n",
    "            style=style)\n",
    "\n",
    "        self.grade = widgets.BoundedFloatText(\n",
    "            value=10.0,\n",
    "            min=0.0,\n",
    "            max=60.0,\n",
    "            step=0.1,\n",
    "            description='Max. Grade (%):',\n",
    "            disabled=False,\n",
    "            style=style)\n",
    "\n",
    "        self.hr = widgets.BoundedIntText(\n",
    "            value=160,\n",
    "            min=110,\n",
    "            max=200,\n",
    "            step=1,\n",
    "            description='Average Heart Rate (BPM):',\n",
    "            disabled=False,\n",
    "            style=style)\n",
    "        \n",
    "        self.sleep = widgets.BoundedFloatText(\n",
    "            value=8.0,\n",
    "            min=0.0,\n",
    "            max=12.0,\n",
    "            step=0.1,\n",
    "            description='Time Asleep (hours):',\n",
    "            disabled=False,\n",
    "            style=style)\n",
    "\n",
    "        self.submit = widgets.Button(\n",
    "            description='Submit',\n",
    "            disabled=False,\n",
    "            button_style='',\n",
    "            tooltip='Estimate average pace',\n",
    "            icon='check')\n",
    "        self.submit.on_click(self.button_callback)\n",
    "        \n",
    "        self.pace = widgets.Text(\n",
    "            value='',\n",
    "            placeholder='',\n",
    "            description='Predicted Pace (minutes/mile):',\n",
    "            disabled=True,\n",
    "            style=style)\n",
    "    \n",
    "    \n",
    "    # Display widgets\n",
    "    def show(self):\n",
    "        from IPython.display import display\n",
    "        \n",
    "        display(self.elevation, self.temp, self.grade, self.hr, self.sleep, self.submit, self.pace)\n",
    "    \n",
    "    \n",
    "    # Create dataframe from kwargs. Arbitrary indexing\n",
    "    @staticmethod\n",
    "    def create_dataframe(**kwargs):\n",
    "        import pandas as pd\n",
    "        \n",
    "        return pd.DataFrame(kwargs, index=[\"date\"])\n",
    "    \n",
    "    \n",
    "    # Predict pace based on model         \n",
    "    def button_callback(self, obj):\n",
    "        \n",
    "        df = self.create_dataframe(hr=self.hr.value, \n",
    "                               elev=self.elevation.value, \n",
    "                               temp=self.temp.value, \n",
    "                               grade=self.grade.value,\n",
    "                               sleep=self.sleep.value)\n",
    "        \n",
    "        prediction = lm.predict(df)[0]\n",
    "        calc_pace = self.minutes_to_pace(prediction)\n",
    "        \n",
    "        self.pace.value = \"%s:%s\" % (str(calc_pace[\"minutes\"]).zfill(2), str(calc_pace[\"seconds\"]).zfill(2))\n",
    "        #print(calc_pace)\n",
    "        \n",
    "\n",
    "    # Convert decimal minutes to pace\n",
    "    @staticmethod\n",
    "    def minutes_to_pace(time):\n",
    "        from math import floor\n",
    "\n",
    "        minutes = floor(time)\n",
    "        seconds = floor((time - minutes) * 60)\n",
    "\n",
    "        return {\"minutes\": minutes, \"seconds\": seconds}"
   ]
  },
  {
   "cell_type": "code",
   "execution_count": 2,
   "metadata": {},
   "outputs": [],
   "source": [
    "import pickle\n",
    "\n",
    "lm = pickle.load(open(\"pace_30Jan2022.pkl\", \"rb\"))"
   ]
  },
  {
   "cell_type": "code",
   "execution_count": 3,
   "metadata": {
    "scrolled": true
   },
   "outputs": [
    {
     "data": {
      "application/vnd.jupyter.widget-view+json": {
       "model_id": "196b028809b5418492cd92068ab0b5e8",
       "version_major": 2,
       "version_minor": 0
      },
      "text/plain": [
       "BoundedIntText(value=500, description='Elevation Gain (ft):', max=2000, style=DescriptionStyle(description_wid…"
      ]
     },
     "metadata": {},
     "output_type": "display_data"
    },
    {
     "data": {
      "application/vnd.jupyter.widget-view+json": {
       "model_id": "7ea1108688ef4c7b8ac87d00d9789b24",
       "version_major": 2,
       "version_minor": 0
      },
      "text/plain": [
       "BoundedFloatText(value=50.0, description='Max. Temperature (deg. F):', min=20.0, step=0.1, style=DescriptionSt…"
      ]
     },
     "metadata": {},
     "output_type": "display_data"
    },
    {
     "data": {
      "application/vnd.jupyter.widget-view+json": {
       "model_id": "569cfc0d1678435ab0e22ab19820140c",
       "version_major": 2,
       "version_minor": 0
      },
      "text/plain": [
       "BoundedFloatText(value=10.0, description='Max. Grade (%):', max=60.0, step=0.1, style=DescriptionStyle(descrip…"
      ]
     },
     "metadata": {},
     "output_type": "display_data"
    },
    {
     "data": {
      "application/vnd.jupyter.widget-view+json": {
       "model_id": "e5d68f3de80741ffbc4158b838af01ec",
       "version_major": 2,
       "version_minor": 0
      },
      "text/plain": [
       "BoundedIntText(value=160, description='Average Heart Rate (BPM):', max=200, min=110, style=DescriptionStyle(de…"
      ]
     },
     "metadata": {},
     "output_type": "display_data"
    },
    {
     "data": {
      "application/vnd.jupyter.widget-view+json": {
       "model_id": "7036a4a7819c429abc2b201321ae1576",
       "version_major": 2,
       "version_minor": 0
      },
      "text/plain": [
       "BoundedFloatText(value=8.0, description='Time Asleep (hours):', max=12.0, step=0.1, style=DescriptionStyle(des…"
      ]
     },
     "metadata": {},
     "output_type": "display_data"
    },
    {
     "data": {
      "application/vnd.jupyter.widget-view+json": {
       "model_id": "05e16c9e181c4741acafb2d4ed035f9d",
       "version_major": 2,
       "version_minor": 0
      },
      "text/plain": [
       "Button(description='Submit', icon='check', style=ButtonStyle(), tooltip='Estimate average pace')"
      ]
     },
     "metadata": {},
     "output_type": "display_data"
    },
    {
     "data": {
      "application/vnd.jupyter.widget-view+json": {
       "model_id": "4e8d6fbd6d174b0fa14a260b6a11dab6",
       "version_major": 2,
       "version_minor": 0
      },
      "text/plain": [
       "Text(value='', description='Predicted Pace (minutes/mile):', disabled=True, placeholder='', style=DescriptionS…"
      ]
     },
     "metadata": {},
     "output_type": "display_data"
    },
    {
     "name": "stdout",
     "output_type": "stream",
     "text": [
      "{'minutes': 10, 'seconds': 51}\n"
     ]
    }
   ],
   "source": [
    "pace_calculator = Calculator(lm)\n",
    "pace_calculator.show()"
   ]
  }
 ],
 "metadata": {
  "kernelspec": {
   "display_name": "Python 3",
   "language": "python",
   "name": "python3"
  },
  "language_info": {
   "codemirror_mode": {
    "name": "ipython",
    "version": 3
   },
   "file_extension": ".py",
   "mimetype": "text/x-python",
   "name": "python",
   "nbconvert_exporter": "python",
   "pygments_lexer": "ipython3",
   "version": "3.7.4"
  }
 },
 "nbformat": 4,
 "nbformat_minor": 2
}
